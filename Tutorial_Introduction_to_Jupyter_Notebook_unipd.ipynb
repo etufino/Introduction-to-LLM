{
  "cells": [
    {
      "cell_type": "markdown",
      "metadata": {
        "id": "rmUPT5Uhe1uJ"
      },
      "source": [
        "# Tutorial: Introduction to Jupyter Notebooks with Python for Working with LLMs\n",
        "version, 02 December 2024\n",
        "\n",
        "by Eugenio Tufino, University of Padova\n",
        "\n",
        "eugenio.tufino@unipd.it\n",
        "\n",
        "[![Open In Colab](https://colab.research.google.com/assets/colab-badge.svg)](https://github.com/etufino/Introduction-to-LLM/blob/main/Tutorial_Introduction_to_Jupyter_Notebook_unipd.ipynb)\n",
        "\n",
        "\n",
        "\n",
        "\n",
        "\n",
        "The purpose of this notebook is to introduce students who may be unfamiliar with Google Colab and Python to the basics, providing them with the foundational skills needed to confidently explore simple properties of Large Language Models (LLMs). This notebook is part of the AI module in the \"Teaching and Learning Physics\" course taught by Dr. Marta Carli in 2024 at the University of Padua (UniPd).\n",
        "\n",
        "Some parts of this notebook, as well as its overall approach, are based on work I previously developed with Dr. Micol Alemani for a physics lab course (University of Potsdam).\n",
        "\n",
        "\n",
        "\n",
        "**Introduction:**\n",
        "This is your first Jupyter Notebook designed to be run in Google Colab. Colab is a free platform provided by Google that allows you to run Jupyter Notebooks directly in your browser, without needing to install additional software. All you need is a Google account, as Colab is already integrated with Google Drive.\n",
        "\n",
        "If you prefer not to use Colab or do not have a Google account, you can still run Jupyter Notebooks in your browser. To do this, visit the Jupyter page, [Jupyter](https://jupyter.org) page and click on \"Try\" and there on \"Jupiter Notebook\" or go directly to [JupyterTry](https://jupyter.org/try). Click on \"Try,\" and select \"Jupyter Notebook,\" or go directly to Jupyter Try.\n",
        "\n",
        "In the lesson, we assume you will primarily use Google Colab for running the provided notebooks, therefore instructions and examples are designed specifically for Colab.\n",
        "\n",
        "\n",
        "**Let's start :-)...**\n",
        "\n",
        "A notebook consists of several types of cells (cell types). On the one hand, there are code cells which can be filled with programme code. On the other hand, text cells which can be filled with text, formulas and images. You can change the cell type by selecting a cell and choosing **\"Markdown \"** for text cells or **\"Code \"** for code cells in the bar at the top.  \n",
        "\n",
        "To edit a Markdown cell, double-click on it. Insert your text and press SHIFT and ENTER while selecting the cell.."
      ]
    },
    {
      "cell_type": "markdown",
      "metadata": {
        "id": "U3soAhbThF8u"
      },
      "source": [
        "## My first code in the Jupyter Notebook\n",
        "As usual, we start with the Hello World programme which simply outputs the sentence \"Hello World\".\n",
        "\n",
        "In code cells you use the hash # to comment the code. Anything commented is not executed in the program. You should get into the habit of commenting your code. This makes your work comprehensible for you and for others, even long after you have written the code."
      ]
    },
    {
      "cell_type": "code",
      "execution_count": null,
      "metadata": {
        "colab": {
          "base_uri": "https://localhost:8080/"
        },
        "id": "sYMB9MB20GE5",
        "outputId": "c766009b-aaaf-4942-9765-5731274c49c1"
      },
      "outputs": [
        {
          "output_type": "stream",
          "name": "stdout",
          "text": [
            "Hello World\n"
          ]
        }
      ],
      "source": [
        "print(\"Hello World\")    #press SHIFT + ENTER to execute the cell"
      ]
    },
    {
      "cell_type": "markdown",
      "metadata": {
        "id": "ri1LafUvhPz3"
      },
      "source": [
        "## Use Python as a calculator\n",
        "In this section you will learn how to use the notebooks as a scientific calculator.\n",
        "\n",
        "\n",
        "In Python, to assign a value to a variable, you use the assigment operator **=**.\n",
        "\n",
        "For example:\n",
        "\n",
        "`a=10`\n",
        "\n",
        "we store the number 10 in the variable `a`.\n",
        "\n",
        "**Important comment:**\n",
        "Python uses line breaks to end a command. Each statement must start on a new line.\n",
        "\n",
        "The most important symbols for arithmetic operations are:\n",
        "\n",
        "- $+$ for addition\n",
        "- \\- for subtraction\n",
        "- $*$ for multiplication\n",
        "- / for division\n",
        "- ** for exponents\n",
        "- // for integer division (divides the numbers, but rounded to whole numbers)\n",
        "- % for modulo (returns the remainder when dividing)"
      ]
    },
    {
      "cell_type": "code",
      "execution_count": null,
      "metadata": {
        "colab": {
          "base_uri": "https://localhost:8080/"
        },
        "id": "55TUDuq_gLjG",
        "outputId": "935ebd13-02df-4c82-e235-8ee00c48b1e7",
        "trusted": true
      },
      "outputs": [
        {
          "output_type": "execute_result",
          "data": {
            "text/plain": [
              "18.200000000000003"
            ]
          },
          "metadata": {},
          "execution_count": 26
        }
      ],
      "source": [
        "# Example of simple calculation, press SHIFT and ENTER or click the arrow on the left to execute the code\n",
        "3*5.4+2"
      ]
    },
    {
      "cell_type": "code",
      "execution_count": null,
      "metadata": {
        "colab": {
          "base_uri": "https://localhost:8080/"
        },
        "id": "56qUJjZugLjI",
        "outputId": "305ab892-50ae-480e-c39b-65ab69d76b82",
        "trusted": true
      },
      "outputs": [
        {
          "output_type": "stream",
          "name": "stdout",
          "text": [
            "30\n"
          ]
        }
      ],
      "source": [
        "# Assign values to the variables x and y\n",
        "x = 10\n",
        "y = 3\n",
        "c=x*y # assign to the variable c the result of a mathematical operation like for example multiplication\n",
        "print(c) # with this command you ask to return the result of the operation"
      ]
    },
    {
      "cell_type": "code",
      "execution_count": null,
      "metadata": {
        "colab": {
          "base_uri": "https://localhost:8080/"
        },
        "id": "49_pXPGwFvq-",
        "outputId": "0d67999d-4f2b-4435-dd51-201ae39e99d6"
      },
      "outputs": [
        {
          "output_type": "stream",
          "name": "stdout",
          "text": [
            "w= 1.464\n"
          ]
        }
      ],
      "source": [
        "z=3/4+5/7  # you can also calculate the sum of some fractions\n",
        "w=round(z,3)  # with this function 'round' you round the number z to 3 decimal places\n",
        "print(\"w=\",w) # with this command you ask to return the result of the operation and add some text that indicates want you have calculated"
      ]
    },
    {
      "cell_type": "code",
      "execution_count": null,
      "metadata": {
        "colab": {
          "base_uri": "https://localhost:8080/"
        },
        "id": "AAWYjAqKLXLd",
        "outputId": "8abbde3e-4e80-4351-95a4-d1b8eeaf4cbf"
      },
      "outputs": [
        {
          "output_type": "stream",
          "name": "stdout",
          "text": [
            "Sum of x and y is:  13\n"
          ]
        }
      ],
      "source": [
        "# An other example of operation\n",
        "print(\"Sum of x and y is: \",x+y)"
      ]
    },
    {
      "cell_type": "code",
      "execution_count": null,
      "metadata": {
        "colab": {
          "base_uri": "https://localhost:8080/"
        },
        "id": "T1MQunLIuEHF",
        "outputId": "d0041718-7b86-47e8-bbee-e1a87dbc43e4",
        "trusted": true
      },
      "outputs": [
        {
          "output_type": "stream",
          "name": "stdout",
          "text": [
            "9\n"
          ]
        }
      ],
      "source": [
        "# Exponentiation: To calculate the \"square\" of a number a, one writes in python a**2  , with two asterisks\n",
        "d=y**2  # exponentiation\n",
        "print(d)  # print the result"
      ]
    },
    {
      "cell_type": "code",
      "execution_count": null,
      "metadata": {
        "colab": {
          "base_uri": "https://localhost:8080/"
        },
        "id": "Gs3dV5JUm4nU",
        "outputId": "feeb63f5-1a3d-4ed0-a8c7-9f7164cb0790",
        "trusted": true
      },
      "outputs": [
        {
          "output_type": "stream",
          "name": "stdout",
          "text": [
            "81\n"
          ]
        }
      ],
      "source": [
        "# Exponentiation with other powers\n",
        "y=3**4 # this indicates the operation 3 elevated to the 4th power\n",
        "print(y)"
      ]
    },
    {
      "cell_type": "markdown",
      "metadata": {
        "id": "Fg_zTYY4hZxo"
      },
      "source": [
        "### Scientific notation\n",
        "\n",
        "Suppose you have the following number: 2.51 x 10$^{-5}$.\n",
        "This can be written as:\n",
        "\n",
        "\n",
        "```\n",
        "# 2.51*10**-5\n",
        "```\n",
        "or you use the compact syntax with the letter \"e\" followed by the exponent in the decimal system as a whole number:\n",
        "\n",
        "\n",
        "\n",
        "```\n",
        "# 2.51e-05\n",
        "\n",
        "```"
      ]
    },
    {
      "cell_type": "markdown",
      "metadata": {
        "id": "FfEcwB24zk-b"
      },
      "source": [
        "**Exercise 1:**\n",
        "Write the number 2.99x10$^8$ m/s in both notations"
      ]
    },
    {
      "cell_type": "markdown",
      "metadata": {
        "id": "o04YWR-Pzgep"
      },
      "source": [
        "**Example:**\n",
        "\n",
        "Determine the amount of gravitational force between the Earth and you, assuming that you have a mass of 60.0kg. Use the mass of the Earth as $5.97×10^{24}$ kg and the radius of 6370 km."
      ]
    },
    {
      "cell_type": "markdown",
      "metadata": {
        "id": "k1wXDG2azqHl"
      },
      "source": [
        "We will look at the significant parts of the result later."
      ]
    },
    {
      "cell_type": "markdown",
      "metadata": {
        "id": "Qlqqnsa0zvTa"
      },
      "source": [
        "**Exercise 2:**\n",
        "\n",
        "Calculate the gravitational force between the Earth and the Sun, given the mass of the Earth is $5.97×10^{24} kg$ and that of the Sun is $1.99×10^{30} kg$. The average distance between the two objects is $1.5×10^{11} m$ . The gravitational constant is $6.674×10^{-11} N*m^2⋅kg^{-2}.$"
      ]
    },
    {
      "cell_type": "markdown",
      "metadata": {
        "id": "MoMGr2orz1jU"
      },
      "source": [
        "## Math and Numpy modules\n",
        "\n",
        "There are several modules (or library) in Python that contain predefined functions. You can choose which modules you want to use depending on your needs. The **math module** contains most common mathematical functions. For documentation see here: [math module](https://docs.python.org/3/library/math.html).\n",
        "\n",
        "There is also the **Sympy module** which allows symbolic arithmetic, for example simplification of terms, derivatives, matrix multiplication, etc. For further examples see here: [Sympy](https://docs.sympy.org/latest/index.html).\n",
        "In the module we will not use Sympy any further.\n",
        "\n",
        "We will instead focus on a very powerful module, the so-called [**NumPy**](https://numpy.org/) module (NumPy stands for \"Numerical Python\").\n",
        "\n",
        "To use a function in a specific module, you must import the module with the following command:"
      ]
    },
    {
      "cell_type": "code",
      "execution_count": null,
      "metadata": {
        "colab": {
          "base_uri": "https://localhost:8080/"
        },
        "id": "7xOoa2ySuQ_U",
        "outputId": "feb357a3-e2ab-4264-f91f-4c542ab8be84",
        "trusted": true
      },
      "outputs": [
        {
          "output_type": "execute_result",
          "data": {
            "text/plain": [
              "3.0"
            ]
          },
          "metadata": {},
          "execution_count": 32
        }
      ],
      "source": [
        "import math   # here we import the math module\n",
        "math.sqrt(9)      # here we use the square root function in the math module"
      ]
    },
    {
      "cell_type": "markdown",
      "metadata": {
        "id": "TJvs2EcV0EMC"
      },
      "source": [
        "**Comment:**\n",
        "\n",
        "The above method is the best way to import functions.\n",
        "Another method is the following:\n",
        "```python\n",
        "from numpy import *\n",
        "numpy.sqrt(2)\n",
        "```\n",
        "where the asterisk stands for 'everything'\n",
        "\n",
        "Here's another method:\n",
        "```python\n",
        "from numpy import sqrt\n",
        "sqrt(2)\n",
        "```\n",
        "This instruction `sqrt` instead of `numpy.sqrt` is written quickly, but can lead to problems if several modules are used in a notebook at the same time, as it is not clear which function is meant. For example, the function `sqrt` can come from the **math** or **numpy** module.\n",
        "\n",
        "We therefore strongly recommend calling the functions with the following syntax: `module name.function name`."
      ]
    },
    {
      "cell_type": "markdown",
      "metadata": {
        "id": "zyY0EDdg0Qq-"
      },
      "source": [
        "**Example:**\n",
        "\n",
        "Calculate the uncertainty of the reading of a digital scale with a resolution of a=0.1g"
      ]
    },
    {
      "cell_type": "code",
      "execution_count": null,
      "metadata": {
        "colab": {
          "base_uri": "https://localhost:8080/"
        },
        "id": "Ci1t1il-k1zE",
        "outputId": "9c765699-6256-4d0b-d261-6aa001ec61c6",
        "trusted": true
      },
      "outputs": [
        {
          "output_type": "stream",
          "name": "stdout",
          "text": [
            "0.02886751345948129\n"
          ]
        }
      ],
      "source": [
        "import numpy\n",
        "u=(0.1)/(2* (numpy.sqrt(3))) #in g\n",
        "print (u) #in g"
      ]
    },
    {
      "cell_type": "markdown",
      "metadata": {
        "id": "eayFrlUK0WNK"
      },
      "source": [
        "NumPy provides support for multi-dimensional arrays and various mathematical functions.\n",
        "In the code we will often introduce the alias **np** for the numpy module. For this we write the following:\n",
        "```python\n",
        "import numpy as np\n",
        "```"
      ]
    },
    {
      "cell_type": "markdown",
      "metadata": {
        "id": "Rgkx3O7p0drO"
      },
      "source": [
        "So the example from above becomes:"
      ]
    },
    {
      "cell_type": "code",
      "execution_count": null,
      "metadata": {
        "colab": {
          "base_uri": "https://localhost:8080/"
        },
        "id": "L__YEEwajSAX",
        "outputId": "1443a421-314f-4f92-8a8b-41c2026b0d13",
        "trusted": true
      },
      "outputs": [
        {
          "output_type": "stream",
          "name": "stdout",
          "text": [
            "0.02886751345948129\n"
          ]
        }
      ],
      "source": [
        "import numpy as np\n",
        "u=(0.1)/(2* (np.sqrt(3))) #in g\n",
        "print (u) #in g"
      ]
    },
    {
      "cell_type": "markdown",
      "metadata": {
        "id": "EdfgvA-903oP"
      },
      "source": [
        "**Exercise 3:**\n",
        "\n",
        "Calculate the area of a circle with radius=3.0cm in m^2.\n",
        "\n",
        "Note: $\\pi$ can be loaded from `np.pi` the numpy module."
      ]
    },
    {
      "cell_type": "markdown",
      "source": [
        "Numpy provides support for multi-dimensional arrays and various mathematical functions.\n",
        "\n",
        "Here's an example of creating and manipulating an **array**."
      ],
      "metadata": {
        "id": "hm9tP0pZHRZh"
      }
    },
    {
      "cell_type": "code",
      "source": [
        "# Example: Working with NumPy arrays\n",
        "import numpy as np\n",
        "data = np.array([1, 2, 3, 4])\n",
        "print(\"Data:\", data)\n",
        "print(\"Mean:\", np.mean(data))\n",
        "print(\"Sum:\", np.sum(data))\n"
      ],
      "metadata": {
        "colab": {
          "base_uri": "https://localhost:8080/"
        },
        "id": "41nMrr-uHEo8",
        "outputId": "c31f4ee1-6ec1-4ccf-b81a-7c5d10948a51"
      },
      "execution_count": null,
      "outputs": [
        {
          "output_type": "stream",
          "name": "stdout",
          "text": [
            "Data: [1 2 3 4]\n",
            "Mean: 2.5\n",
            "Sum: 10\n"
          ]
        }
      ]
    },
    {
      "cell_type": "markdown",
      "source": [
        "## Visualizing Data with Matplotlib\n",
        "Matplotlib is a library for creating visualizations in Python. You can create plots, **charts**, and more.\n",
        "Here's an example of a simple line plot.\n"
      ],
      "metadata": {
        "id": "dPXC2EzJITx0"
      }
    },
    {
      "cell_type": "code",
      "source": [
        "import matplotlib.pyplot as plt\n",
        "# Example: Simple line plot\n",
        "x = [1, 2, 3, 4,5]\n",
        "y = [10, 20, 30, 40,50]\n",
        "\n",
        "plt.plot(x, y,\"o\")\n",
        "plt.title(\"Simple Example Plot\")\n",
        "plt.xlabel(\"X-axis\")\n",
        "plt.ylabel(\"Y-axis\", fontsize=16) # fontsize changes the size of the font\n",
        "plt.show()"
      ],
      "metadata": {
        "colab": {
          "base_uri": "https://localhost:8080/",
          "height": 472
        },
        "id": "3Soz7A3FIOGL",
        "outputId": "a770fabd-2801-46f0-e9f4-0549b222b28c"
      },
      "execution_count": null,
      "outputs": [
        {
          "output_type": "display_data",
          "data": {
            "text/plain": [
              "<Figure size 640x480 with 1 Axes>"
            ],
            "image/png": "[encoded data removed]"
          },
          "metadata": {}
        }
      ]
    },
    {
      "cell_type": "code",
      "source": [],
      "metadata": {
        "id": "czYkN9YIxlTw"
      },
      "execution_count": null,
      "outputs": []
    },
    {
      "cell_type": "markdown",
      "source": [
        "\n",
        "**Exercise 4**\n",
        "\n",
        "Plot data from a physics experiment. Update the x and y values with your data, label the x-axis and y-axis appropriately (with an appropriate font size), and give the plot a descriptive title."
      ],
      "metadata": {
        "id": "PWiETWv7we3M"
      }
    },
    {
      "cell_type": "markdown",
      "source": [
        "## String Manipulation in Python\n",
        "\n",
        "Since generative AI models work heavily with text, it's important to understand basic string operations in Python.\n",
        "\n",
        "Let's explore some examples with some functions"
      ],
      "metadata": {
        "id": "LfnLJDY8syPc"
      }
    },
    {
      "cell_type": "code",
      "source": [
        "# Example: Basic string operations\n",
        "text = \"Physics is wonderful!\"\n",
        "print(\"Original text:\", text)\n",
        "print(\"Uppercase:\", text.upper())   # all the text is uppercase\n",
        "print(\"Lowercase:\", text.lower())  # all the text is lowercase\n",
        "print(\"Number of characters in the text:\", len(text))"
      ],
      "metadata": {
        "colab": {
          "base_uri": "https://localhost:8080/"
        },
        "id": "nZno0lzAtJrY",
        "outputId": "ffdea837-9ad9-49a1-b740-7d136a20dc84"
      },
      "execution_count": null,
      "outputs": [
        {
          "output_type": "stream",
          "name": "stdout",
          "text": [
            "Original text: Physics is wonderful!\n",
            "Uppercase: PHYSICS IS WONDERFUL!\n",
            "Lowercase: physics is wonderful!\n",
            "Number of characters in the text: 21\n"
          ]
        }
      ]
    },
    {
      "cell_type": "markdown",
      "source": [
        "How to split text into words? This is fundamental for the so called \"tokenization\""
      ],
      "metadata": {
        "id": "4ELc3P5nurwu"
      }
    },
    {
      "cell_type": "code",
      "source": [
        "words = text.split()  # Split text into words\n",
        "print(\"Words:\", words)"
      ],
      "metadata": {
        "colab": {
          "base_uri": "https://localhost:8080/"
        },
        "id": "aHUkS-5LunLh",
        "outputId": "d50c9a37-d539-4244-cd57-cedd72867265"
      },
      "execution_count": null,
      "outputs": [
        {
          "output_type": "stream",
          "name": "stdout",
          "text": [
            "Words: ['Physics', 'is', 'wonderful!']\n"
          ]
        }
      ]
    },
    {
      "cell_type": "markdown",
      "source": [
        "When you analize text, you need also to count the words.\n",
        "In the following code, first the text is converted to lowercase, then splitted.\n"
      ],
      "metadata": {
        "id": "I-Qy-wLUvUT6"
      }
    },
    {
      "cell_type": "code",
      "source": [
        "text = \"Physics is wonderful, but sometime people find Physics difficult\"\n",
        "word_count = text.lower().split().count(\"physics\")  # Convert to lowercase, split, and count\n",
        "print(\"Occurrences of 'physics':\", word_count)"
      ],
      "metadata": {
        "colab": {
          "base_uri": "https://localhost:8080/"
        },
        "id": "4kYfFXCWvTex",
        "outputId": "f6d3d11c-7719-4974-feaf-13bb3103a506"
      },
      "execution_count": null,
      "outputs": [
        {
          "output_type": "stream",
          "name": "stdout",
          "text": [
            "Occurrences of 'physics': 2\n"
          ]
        }
      ]
    },
    {
      "cell_type": "markdown",
      "source": [
        "**Exercise 5**\n",
        "\n",
        "Write a text of your choice and apply the operations on your text to lowercase, split and count the words."
      ],
      "metadata": {
        "id": "rguoVjtRyvk4"
      }
    },
    {
      "cell_type": "markdown",
      "source": [
        "Replacing words"
      ],
      "metadata": {
        "id": "iBUTBDnWw8M-"
      }
    },
    {
      "cell_type": "code",
      "source": [
        "# in the previous text replace physics with science\n",
        "replaced_text = text.replace(\"Physics\", \"science\")\n",
        "print(\"Replaced text:\", replaced_text)"
      ],
      "metadata": {
        "colab": {
          "base_uri": "https://localhost:8080/"
        },
        "id": "8BSVxGD_w7Z4",
        "outputId": "90cee112-4a30-47fc-bf95-548533606d39"
      },
      "execution_count": null,
      "outputs": [
        {
          "output_type": "stream",
          "name": "stdout",
          "text": [
            "Replaced text: science is wonderful, but sometime people find science difficult\n"
          ]
        }
      ]
    },
    {
      "cell_type": "markdown",
      "source": [
        "**Exercise 6**\n",
        "\n",
        "Try to use:\n",
        "\n",
        "```\n",
        "replaced_text = text.replace(\"Physics\", \"science\")\n",
        "\n",
        "```\n",
        "What did you notice?\n"
      ],
      "metadata": {
        "id": "rMaZE9_RxONF"
      }
    },
    {
      "cell_type": "markdown",
      "metadata": {
        "id": "qmto54pV0wx_"
      },
      "source": [
        "## Getting Help\n",
        "\n",
        "The most direct method to call the help/documentation is the built-in function **help**.\n",
        "For example, `help(maths)` can be used to retrieve information about the maths module. The **help** function can be used to retrieve the documentation of modules, functions, classes and key-words, etc.\n",
        "\n",
        "To call all functions in the math or NumPy module, write `help(math)` or `help(np)`. To call the help for a function within a module one can write the following:\n",
        "\n",
        "```\n",
        "# help(np.sin)\n",
        "```\n",
        "or\n",
        "\n",
        "\n",
        "```\n",
        "# np.sin?   # in the Jupiter notebook environment\n",
        "```"
      ]
    },
    {
      "cell_type": "markdown",
      "metadata": {
        "id": "-PQfpCMRhtdm"
      },
      "source": [
        "## References\n",
        "\n",
        "- The official Python documentation [www.python.org/doc](https://www.python.org/doc)\n",
        "\n",
        "- A website where you can find answers to problems [stackoverflow](https://www.stackoverflow.com)\n",
        "-Modern AI technologies now provide assistance and help with coding, debugging, and learning new programming concepts. Examples include platforms such as OpenAI, GitHub Copilot and Google Colab.\n",
        "\n",
        "\n",
        "\n",
        "### Books about physics with Python:\n",
        "\n",
        "- Jesse Kinder, Philip Nelson, A Guide to Python for Physical Modeling, Princeton University Press\n",
        "\n",
        "- Svein Linge, Hans Petter Langtangen, Programming for Computations - Python. A Gentle Introduction to Numerical Simulations with Python 3.6\n",
        "\n",
        "- Anders Malthe-Sørenssen, Elementary Mechanics Using Python"
      ]
    }
  ],
  "metadata": {
    "colab": {
      "provenance": []
    },
    "kernelspec": {
      "display_name": "Python (Pyodide)",
      "language": "python",
      "name": "python"
    },
    "language_info": {
      "codemirror_mode": {
        "name": "python",
        "version": 3
      },
      "file_extension": ".py",
      "mimetype": "text/x-python",
      "name": "python",
      "nbconvert_exporter": "python",
      "pygments_lexer": "ipython3",
      "version": "3.8"
    }
  },
  "nbformat": 4,
  "nbformat_minor": 0
}